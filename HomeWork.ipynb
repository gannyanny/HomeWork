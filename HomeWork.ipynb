{
 "cells": [
  {
   "cell_type": "code",
   "execution_count": 3,
   "id": "16c5fa9f-9b0c-4532-ab6f-1fdb8edcb1cb",
   "metadata": {
    "tags": []
   },
   "outputs": [
    {
     "name": "stdout",
     "output_type": "stream",
     "text": [
      "                    precision    recall  f1-score   support\n",
      "\n",
      "           Walking       0.94      0.99      0.97       496\n",
      "  Walking Upstairs       0.97      0.94      0.96       471\n",
      "Walking Downstairs       0.99      0.97      0.98       420\n",
      "           Sitting       0.98      0.88      0.93       491\n",
      "          Standing       0.90      0.98      0.94       532\n",
      "            Laying       1.00      1.00      1.00       537\n",
      "\n",
      "          accuracy                           0.96      2947\n",
      "         macro avg       0.96      0.96      0.96      2947\n",
      "      weighted avg       0.96      0.96      0.96      2947\n",
      "\n"
     ]
    }
   ],
   "source": [
    "import os\n",
    "import pandas as pd\n",
    "from sklearn.metrics import classification_report\n",
    "from sklearn.linear_model import LogisticRegression\n",
    "\n",
    "\n",
    "def read_data(filename):\n",
    "    return pd.read_csv(os.path.join(filename))\n",
    "\n",
    "\n",
    "def load_dataset(label_dict):\n",
    "    train_X = read_data('C:\\Data/train.csv').values[:,:-2]\n",
    "    train_y = read_data('C:\\Data/train.csv')['Activity']\n",
    "    train_y = train_y.map(label_dict).values\n",
    "    test_X = read_data('C:\\Data/test.csv').values[:,:-2]\n",
    "    test_y = read_data('C:\\Data/test.csv')\n",
    "    test_y = test_y['Activity'].map(label_dict).values\n",
    "    return(train_X, train_y, test_X, test_y)\n",
    "label_dict = {'WALKING':0, 'WALKING_UPSTAIRS':1, 'WALKING_DOWNSTAIRS':2, 'SITTING':3, 'STANDING':4, 'LAYING':5}\n",
    "train_X, train_y, test_X, test_y = load_dataset(label_dict)\n",
    "\n",
    "\n",
    "model = LogisticRegression(max_iter=3000)\n",
    "\n",
    "model.fit(train_X, train_y)\n",
    "\n",
    "yhat = model.predict(test_X)\n",
    "\n",
    "target_names = ['Walking', 'Walking Upstairs', 'Walking Downstairs', 'Sitting', 'Standing', 'Laying']\n",
    "\n",
    "print(classification_report(test_y, yhat, target_names=target_names))"
   ]
  },
  {
   "cell_type": "markdown",
   "id": "5f64cc6f-c879-4577-abb6-4b6382fd300d",
   "metadata": {
    "tags": [
     "Комментарий"
    ]
   },
   "source": [
    "Добавляем нужные библеотеки"
   ]
  },
  {
   "cell_type": "code",
   "execution_count": null,
   "id": "49172f5b-7a68-4f85-bca5-ce63f2fb1ca6",
   "metadata": {},
   "outputs": [],
   "source": [
    "import os\n",
    "import pandas as pd\n",
    "from sklearn.metrics import classification_report\n",
    "from sklearn.linear_model import LogisticRegression"
   ]
  },
  {
   "cell_type": "markdown",
   "id": "90d24c4a-e507-42db-aacd-19bee7b1497a",
   "metadata": {
    "tags": [
     "Комментарий"
    ]
   },
   "source": [
    "Создаём функцию для чтения таблиц. Закрепляем данные в переменных."
   ]
  },
  {
   "cell_type": "code",
   "execution_count": null,
   "id": "674e5f2d-b00f-4c1b-b02f-bafe1ef4c0df",
   "metadata": {
    "tags": []
   },
   "outputs": [],
   "source": [
    "def read_data(filename):\n",
    "    return pd.read_csv(os.path.join(filename))\n",
    "\n",
    "def load_dataset(label_dict):\n",
    "    train_X = read_data('C:\\Data/train.csv').values[:,:-2]\n",
    "    train_y = read_data('C:\\Data/train.csv')['Activity']\n",
    "    train_y = train_y.map(label_dict).values\n",
    "    test_X = read_data('C:\\Data/test.csv').values[:,:-2]\n",
    "    test_y = read_data('C:\\Data/test.csv')\n",
    "    test_y = test_y['Activity'].map(label_dict).values\n",
    "    return(train_X, train_y, test_X, test_y)\n",
    "label_dict = {'WALKING':0, 'WALKING_UPSTAIRS':1, 'WALKING_DOWNSTAIRS':2, 'SITTING':3, 'STANDING':4, 'LAYING':5}\n",
    "train_X, train_y, test_X, test_y = load_dataset(label_dict)"
   ]
  },
  {
   "cell_type": "markdown",
   "id": "5647a1e5-81f1-402d-bb3f-2bbcf11bc741",
   "metadata": {},
   "source": [
    "Выбираем модель Логической регрессии из-за наилучшего результата при тестах. Обучаем модель и строим прогноз."
   ]
  },
  {
   "cell_type": "code",
   "execution_count": null,
   "id": "7ae66344-0c91-4e35-8b29-31bb8f9056a0",
   "metadata": {
    "tags": []
   },
   "outputs": [],
   "source": [
    "model = LogisticRegression(max_iter=3000)\n",
    "\n",
    "model.fit(train_X, train_y)\n",
    "\n",
    "yhat = model.predict(test_X)"
   ]
  },
  {
   "cell_type": "markdown",
   "id": "c19db3d1-35a0-4122-8c53-3d5fafa19bd6",
   "metadata": {},
   "source": [
    "Обозначаем основные пункты и выводим рузультат."
   ]
  },
  {
   "cell_type": "code",
   "execution_count": null,
   "id": "1909145a-a8a6-40ce-a1aa-5b397723f97c",
   "metadata": {},
   "outputs": [],
   "source": [
    "target_names = ['Walking', 'Walking Upstairs', 'Walking Downstairs', 'Sitting', 'Standing', 'Laying']\n",
    "\n",
    "print(classification_report(test_y, yhat, target_names=target_names))"
   ]
  }
 ],
 "metadata": {
  "kernelspec": {
   "display_name": "Python 3",
   "language": "python",
   "name": "python3"
  },
  "language_info": {
   "codemirror_mode": {
    "name": "ipython",
    "version": 3
   },
   "file_extension": ".py",
   "mimetype": "text/x-python",
   "name": "python",
   "nbconvert_exporter": "python",
   "pygments_lexer": "ipython3",
   "version": "3.8.8"
  }
 },
 "nbformat": 4,
 "nbformat_minor": 5
}
